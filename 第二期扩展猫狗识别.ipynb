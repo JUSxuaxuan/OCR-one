{
 "cells": [
  {
   "cell_type": "code",
   "execution_count": 1,
   "metadata": {},
   "outputs": [
    {
     "name": "stdout",
     "output_type": "stream",
     "text": [
      "Successfully download file obs-c92f/第二期猫狗识别h5文件/vgg19_weights_tf_dim_ordering_tf_kernels_notop.h5 from OBS to local ./vgg19_weights_tf_dim_ordering_tf_kernels_notop.h5\n",
      "Successfully download file obs-c92f/第二期猫狗识别h5文件/xception_weights_tf_dim_ordering_tf_kernels_notop.h5 from OBS to local ./xception_weights_tf_dim_ordering_tf_kernels_notop.h5\n",
      "Successfully download file obs-c92f/第二期猫狗识别h5文件/vgg16_weights_tf_dim_ordering_tf_kernels_notop.h5 from OBS to local ./vgg16_weights_tf_dim_ordering_tf_kernels_notop.h5\n",
      "Successfully download file obs-c92f/第二期猫狗识别h5文件/inception_v3_weights_tf_dim_ordering_tf_kernels_notop.h5 from OBS to local ./inception_v3_weights_tf_dim_ordering_tf_kernels_notop.h5\n"
     ]
    }
   ],
   "source": [
    "from modelarts.session import Session\n",
    "sess = Session()\n",
    "sess.download_data(bucket_path=\"obs-c92f/第二期猫狗识别h5文件/vgg19_weights_tf_dim_ordering_tf_kernels_notop.h5\",path='./vgg19_weights_tf_dim_ordering_tf_kernels_notop.h5')\n",
    "sess.download_data(bucket_path=\"obs-c92f/第二期猫狗识别h5文件/xception_weights_tf_dim_ordering_tf_kernels_notop.h5\",path='./xception_weights_tf_dim_ordering_tf_kernels_notop.h5')\n",
    "sess.download_data(bucket_path=\"obs-c92f/第二期猫狗识别h5文件/vgg16_weights_tf_dim_ordering_tf_kernels_notop.h5\",path='./vgg16_weights_tf_dim_ordering_tf_kernels_notop.h5')\n",
    "sess.download_data(bucket_path=\"obs-c92f/第二期猫狗识别h5文件/inception_v3_weights_tf_dim_ordering_tf_kernels_notop.h5\",path='./inception_v3_weights_tf_dim_ordering_tf_kernels_notop.h5')"
   ]
  },
  {
   "cell_type": "code",
   "execution_count": 2,
   "metadata": {},
   "outputs": [
    {
     "name": "stdout",
     "output_type": "stream",
     "text": [
      "Collecting keras.applications==1.0.6\n",
      "  Downloading http://repo.myhuaweicloud.com/repository/pypi/packages/3f/c4/2ff40221029f7098d58f8d7fb99b97e8100f3293f9856f0fb5834bef100b/Keras_Applications-1.0.6-py2.py3-none-any.whl (44kB)\n",
      "\u001b[K    100% |████████████████████████████████| 51kB 78.8MB/s ta 0:00:01\n",
      "\u001b[?25hCollecting keras==2.2.4\n",
      "  Downloading http://repo.myhuaweicloud.com/repository/pypi/packages/5e/10/aa32dad071ce52b5502266b5c659451cfd6ffcbf14e6c8c4f16c0ff5aaab/Keras-2.2.4-py2.py3-none-any.whl (312kB)\n",
      "\u001b[K    100% |████████████████████████████████| 317kB 101.7MB/s ta 0:00:01\n",
      "\u001b[?25hCollecting numpy>=1.9.1 (from keras.applications==1.0.6)\n",
      "  Downloading http://repo.myhuaweicloud.com/repository/pypi/packages/0e/46/ae6773894f7eacf53308086287897ec568eac9768918d913d5b9d366c5db/numpy-1.17.3-cp36-cp36m-manylinux1_x86_64.whl (20.0MB)\n",
      "\u001b[K    100% |████████████████████████████████| 20.0MB 98.3MB/s eta 0:00:011.8MB 98.1MB/s eta 0:00:01   34% |███████████                     | 6.8MB 90.5MB/s eta 0:00:01ta 0:00:01MB/s eta 0:00:01\n",
      "\u001b[?25hCollecting h5py (from keras.applications==1.0.6)\n",
      "  Downloading http://repo.myhuaweicloud.com/repository/pypi/packages/60/06/cafdd44889200e5438b897388f3075b52a8ef01f28a17366d91de0fa2d05/h5py-2.10.0-cp36-cp36m-manylinux1_x86_64.whl (2.9MB)\n",
      "\u001b[K    100% |████████████████████████████████| 2.9MB 102.3MB/s a 0:00:011�█████████▍          | 1.9MB 106.7MB/s eta 0:00:01\n",
      "\u001b[?25hCollecting keras-applications>=1.0.6 (from keras==2.2.4)\n",
      "  Downloading http://repo.myhuaweicloud.com/repository/pypi/packages/71/e3/19762fdfc62877ae9102edf6342d71b28fbfd9dea3d2f96a882ce099b03f/Keras_Applications-1.0.8-py3-none-any.whl (50kB)\n",
      "\u001b[K    100% |████████████████████████████████| 51kB 77.2MB/s ta 0:00:01\n",
      "\u001b[?25hCollecting keras-preprocessing>=1.0.5 (from keras==2.2.4)\n",
      "  Downloading http://repo.myhuaweicloud.com/repository/pypi/packages/28/6a/8c1f62c37212d9fc441a7e26736df51ce6f0e38455816445471f10da4f0a/Keras_Preprocessing-1.1.0-py2.py3-none-any.whl (41kB)\n",
      "\u001b[K    100% |████████████████████████████████| 51kB 83.3MB/s ta 0:00:01\n",
      "\u001b[?25hCollecting six>=1.9.0 (from keras==2.2.4)\n",
      "  Downloading http://repo.myhuaweicloud.com/repository/pypi/packages/73/fb/00a976f728d0d1fecfe898238ce23f502a721c0ac0ecfedb80e0d88c64e9/six-1.12.0-py2.py3-none-any.whl\n",
      "Collecting scipy>=0.14 (from keras==2.2.4)\n",
      "  Downloading http://repo.myhuaweicloud.com/repository/pypi/packages/29/50/a552a5aff252ae915f522e44642bb49a7b7b31677f9580cfd11bcc869976/scipy-1.3.1-cp36-cp36m-manylinux1_x86_64.whl (25.2MB)\n",
      "\u001b[K    100% |████████████████████████████████| 25.2MB 103.5MB/s ta 0:00:01                 | 7.7MB 71.6MB/s eta 0:00:01 eta 0:00:01MB/s eta 0:00:01��██████████████▏        | 18.2MB 87.4MB/s eta 0:00:01��█████████████████████████▊   | 22.6MB 97.3MB/s eta 0:00:01\n",
      "\u001b[?25hCollecting pyyaml (from keras==2.2.4)\n",
      "  Downloading http://repo.myhuaweicloud.com/repository/pypi/packages/e3/e8/b3212641ee2718d556df0f23f78de8303f068fe29cdaa7a91018849582fe/PyYAML-5.1.2.tar.gz (265kB)\n",
      "\u001b[K    100% |████████████████████████████████| 266kB 98.7MB/s eta 0:00:01\n",
      "\u001b[?25hBuilding wheels for collected packages: pyyaml\n",
      "  Running setup.py bdist_wheel for pyyaml ... \u001b[?25ldone\n",
      "\u001b[?25h  Stored in directory: /home/ma-user/.cache/pip/wheels/b8/f2/93/0b52ea3f4f41d99c6ac25eee588b7ddb3d59a37e1d5457c690\n",
      "Successfully built pyyaml\n",
      "Installing collected packages: numpy, six, h5py, keras.applications, keras-applications, keras-preprocessing, scipy, pyyaml, keras\n",
      "  Found existing installation: numpy 1.16.2\n",
      "    Uninstalling numpy-1.16.2:\n",
      "      Successfully uninstalled numpy-1.16.2\n",
      "  Found existing installation: six 1.11.0\n",
      "    Uninstalling six-1.11.0:\n",
      "      Successfully uninstalled six-1.11.0\n",
      "  Found existing installation: h5py 2.8.0\n",
      "    Uninstalling h5py-2.8.0:\n",
      "      Successfully uninstalled h5py-2.8.0\n",
      "  Found existing installation: Keras-Applications 1.0.2\n",
      "    Uninstalling Keras-Applications-1.0.2:\n",
      "      Successfully uninstalled Keras-Applications-1.0.2\n",
      "  Found existing installation: Keras-Preprocessing 1.0.1\n",
      "    Uninstalling Keras-Preprocessing-1.0.1:\n",
      "      Successfully uninstalled Keras-Preprocessing-1.0.1\n",
      "  Found existing installation: scipy 1.0.0\n",
      "    Uninstalling scipy-1.0.0:\n",
      "      Successfully uninstalled scipy-1.0.0\n",
      "  Found existing installation: PyYAML 3.12\n",
      "    Uninstalling PyYAML-3.12:\n",
      "      Successfully uninstalled PyYAML-3.12\n",
      "  Found existing installation: Keras 2.2.0\n",
      "    Uninstalling Keras-2.2.0:\n",
      "      Successfully uninstalled Keras-2.2.0\n",
      "Successfully installed h5py-2.10.0 keras-2.2.4 keras-applications-1.0.8 keras-preprocessing-1.1.0 keras.applications numpy-1.17.3 pyyaml-5.1.2 scipy-1.3.1 six-1.12.0\n",
      "\u001b[33mYou are using pip version 9.0.1, however version 19.3.1 is available.\n",
      "You should consider upgrading via the 'pip install --upgrade pip' command.\u001b[0m\n"
     ]
    }
   ],
   "source": [
    "!pip install --upgrade keras.applications==1.0.6 keras==2.2.4"
   ]
  },
  {
   "cell_type": "code",
   "execution_count": 3,
   "metadata": {},
   "outputs": [
    {
     "name": "stdout",
     "output_type": "stream",
     "text": [
      "Successfully download file modelarts-labs/end2end/image_recognition/dog_and_cat_25000.tar.gz from OBS to local ./dog_and_cat_25000.tar.gz\n"
     ]
    }
   ],
   "source": [
    "import os\n",
    "import warnings\n",
    "warnings.filterwarnings('ignore')\n",
    "if os.path.exists('./data') == False:\n",
    "    from modelarts.session import Session\n",
    "    session = Session()\n",
    "    \n",
    "    if session.region_name == 'cn-north-1':\n",
    "        bucket_path=\"modelarts-labs/end2end/image_recognition/dog_and_cat_25000.tar.gz\"\n",
    "    elif session.region_name == 'cn-north-4':\n",
    "        bucket_path=\"modelarts-labs-bj4/end2end/image_recognition/dog_and_cat_25000.tar.gz\"\n",
    "    else:\n",
    "        print(\"请更换地区到北京一或北京四\")\n",
    "        \n",
    "    session.download_data(\n",
    "        bucket_path=bucket_path,\n",
    "        path=\"./dog_and_cat_25000.tar.gz\")\n",
    "\n",
    "    # 使用tar命令解压资源包\n",
    "    !tar xf ./dog_and_cat_25000.tar.gz\n",
    "\n",
    "    # 清理压缩包\n",
    "    !rm -f ./dog_and_cat_25000.tar.gz"
   ]
  },
  {
   "cell_type": "code",
   "execution_count": 4,
   "metadata": {},
   "outputs": [
    {
     "name": "stderr",
     "output_type": "stream",
     "text": [
      "Using TensorFlow backend.\n"
     ]
    },
    {
     "name": "stdout",
     "output_type": "stream",
     "text": [
      "已经读取:0.0%\n",
      "已经读取:0.08%\n",
      "已经读取:0.16%\n",
      "已经读取:0.24%\n",
      "已经读取:0.32%\n",
      "已经读取:0.4%\n",
      "已经读取:0.48%\n",
      "已经读取:0.56%\n",
      "已经读取:0.64%\n",
      "已经读取:0.72%\n",
      "已经读取:0.8%\n",
      "已经读取:0.88%\n",
      "已经读取:0.96%\n",
      "(25000, 128, 128, 3)\n"
     ]
    }
   ],
   "source": [
    "import keras.utils\n",
    "data_path = './data/'\n",
    "image_names = [os.path.join(data_path,i) for i in os.listdir(data_path)]\n",
    "\n",
    "import random\n",
    "import matplotlib.pyplot as plt\n",
    "random.shuffle(image_names)\n",
    "\n",
    "import cv2\n",
    "import numpy as np\n",
    "rows = 128\n",
    "cols = 128\n",
    "channels = 3\n",
    "def read_image(file_path):\n",
    "    img = cv2.imread(file_path,cv2.IMREAD_COLOR)\n",
    "    return cv2.resize(img,(rows,cols),interpolation=cv2.INTER_CUBIC)\n",
    "\n",
    "def pre_data(images_file):\n",
    "    data = np.empty((len(image_names),rows,cols,channels),dtype='uint8')\n",
    "    for i,image_file in enumerate(images_file):\n",
    "        image = read_image(image_file)\n",
    "        data[i] = image\n",
    "        if i%2000==0:\n",
    "            print('已经读取:{}%'.format(i/25000))\n",
    "    return data\n",
    "\n",
    "images_data = pre_data(image_names)\n",
    "print(images_data.shape)"
   ]
  },
  {
   "cell_type": "code",
   "execution_count": 5,
   "metadata": {},
   "outputs": [],
   "source": [
    "num_train_samples = len(images_data)\n",
    "num_classes = 2\n",
    "labels = []\n",
    "index = 0\n",
    "for file in image_names:\n",
    "    if 'dog' in file:\n",
    "        labels.append(1)\n",
    "    elif 'cat' in file:\n",
    "        labels.append(0)\n",
    "        \n",
    "from keras.utils import np_utils\n",
    "labels = np_utils.to_categorical(labels,num_classes)\n",
    "\n",
    "from sklearn.model_selection import train_test_split\n",
    "train_data,test_data,train_labels,test_labels = train_test_split(images_data,labels,\n",
    "                                                                test_size=0.3,\n",
    "                                                                random_state=2)"
   ]
  },
  {
   "cell_type": "code",
   "execution_count": 6,
   "metadata": {},
   "outputs": [],
   "source": [
    "from keras.optimizers import RMSprop,adam\n",
    "from keras.applications.vgg16 import VGG16\n",
    "from keras.applications.vgg19 import VGG19\n",
    "from keras.applications.inception_v3 import InceptionV3\n",
    "from keras.applications.xception import Xception\n",
    "from keras.models import Model\n",
    "from keras.callbacks import Callback,EarlyStopping,LearningRateScheduler,ModelCheckpoint,ReduceLROnPlateau\n",
    "import cv2\n",
    "import numpy as np\n",
    "from keras.layers import Input, Dense\n",
    "from keras.utils import np_utils\n",
    "import tensorflow as tf\n",
    "from sklearn.model_selection import train_test_split\n",
    "from sklearn.metrics import accuracy_score\n",
    "from keras import backend as K\n",
    "from keras.applications.xception import Xception\n",
    "from keras import regularizers\n",
    "import time\n",
    "\n",
    "\n",
    "learning_rate = 1e-4\n",
    "batch_size = 32\n",
    "max_epochs = 10\n",
    "objective = 'binary_crossentropy'"
   ]
  },
  {
   "cell_type": "code",
   "execution_count": 7,
   "metadata": {},
   "outputs": [
    {
     "name": "stderr",
     "output_type": "stream",
     "text": [
      "WARNING:tensorflow:From /home/ma-user/anaconda3/envs/TensorFlow-1.13.1/lib/python3.6/site-packages/tensorflow/python/framework/op_def_library.py:263: colocate_with (from tensorflow.python.framework.ops) is deprecated and will be removed in a future version.\n",
      "Instructions for updating:\n",
      "Colocations handled automatically by placer.\n",
      "WARNING:tensorflow:From /home/ma-user/anaconda3/envs/TensorFlow-1.13.1/lib/python3.6/site-packages/tensorflow/python/ops/math_ops.py:3066: to_int32 (from tensorflow.python.ops.math_ops) is deprecated and will be removed in a future version.\n",
      "Instructions for updating:\n",
      "Use tf.cast instead.\n"
     ]
    },
    {
     "name": "stdout",
     "output_type": "stream",
     "text": [
      "Train on 13125 samples, validate on 4375 samples\n",
      "Epoch 1/10\n",
      "13125/13125 [==============================] - 79s 6ms/step - loss: 15.1922 - acc: 0.8835 - val_loss: 3.1171 - val_acc: 0.9454\n",
      "Epoch 2/10\n",
      "13125/13125 [==============================] - 55s 4ms/step - loss: 1.0763 - acc: 0.9669 - val_loss: 0.3366 - val_acc: 0.9518\n",
      "Epoch 3/10\n",
      "13125/13125 [==============================] - 54s 4ms/step - loss: 0.2322 - acc: 0.9890 - val_loss: 0.2560 - val_acc: 0.9534\n",
      "Epoch 4/10\n",
      "13125/13125 [==============================] - 54s 4ms/step - loss: 0.1960 - acc: 0.9917 - val_loss: 0.2566 - val_acc: 0.9568\n",
      "Epoch 5/10\n",
      "13125/13125 [==============================] - 55s 4ms/step - loss: 0.1765 - acc: 0.9962 - val_loss: 0.2487 - val_acc: 0.9563\n",
      "Epoch 6/10\n",
      "13125/13125 [==============================] - 54s 4ms/step - loss: 0.1712 - acc: 0.9962 - val_loss: 0.2534 - val_acc: 0.9522\n",
      "Epoch 7/10\n",
      "13125/13125 [==============================] - 54s 4ms/step - loss: 0.1696 - acc: 0.9935 - val_loss: 0.2459 - val_acc: 0.9543\n",
      "Epoch 8/10\n",
      "13125/13125 [==============================] - 54s 4ms/step - loss: 0.1663 - acc: 0.9925 - val_loss: 0.3159 - val_acc: 0.9223\n",
      "Epoch 9/10\n",
      "13125/13125 [==============================] - 55s 4ms/step - loss: 0.1671 - acc: 0.9909 - val_loss: 0.2285 - val_acc: 0.9600\n",
      "Epoch 10/10\n",
      "13125/13125 [==============================] - 55s 4ms/step - loss: 0.1515 - acc: 0.9960 - val_loss: 0.2435 - val_acc: 0.9502\n"
     ]
    },
    {
     "data": {
      "image/png": "[encoded data removed]",
      "text/plain": [
       "<Figure size 432x288 with 1 Axes>"
      ]
     },
     "metadata": {},
     "output_type": "display_data"
    },
    {
     "name": "stdout",
     "output_type": "stream",
     "text": [
      "InceptionV3以及adam在imagenet下，消耗时间 598.7343316078186\n"
     ]
    }
   ],
   "source": [
    "start = time.time()\n",
    "optimizer = adam(lr=learning_rate)\n",
    "def load_model():\n",
    "    base_model = InceptionV3(weights=None, include_top=False,input_shape=(rows, cols, channels), pooling='avg')\n",
    "    base_model.load_weights('./inception_v3_weights_tf_dim_ordering_tf_kernels_notop.h5')\n",
    "    prediction_layer = Dense(2, activation='softmax',kernel_regularizer=regularizers.l2(10))(base_model.output)\n",
    "    model = Model(inputs=base_model.input, outputs=prediction_layer)\n",
    "    model.compile(loss=objective, optimizer=optimizer, metrics=['accuracy'])\n",
    "    return model\n",
    "\n",
    "model = load_model()\n",
    "\n",
    "early_stopping = EarlyStopping(monitor='val_loss', patience=3, verbose=1, mode='auto')\n",
    "\n",
    "\n",
    "\n",
    "def run_train():\n",
    "    h = model.fit(\n",
    "        train_data,\n",
    "        train_labels,\n",
    "        batch_size=batch_size,\n",
    "        epochs=max_epochs,\n",
    "        validation_split=0.25,\n",
    "        verbose=1,\n",
    "        shuffle=True,\n",
    "        callbacks=[early_stopping])\n",
    "    return h\n",
    "\n",
    "\n",
    "history_xception_adam = run_train()\n",
    "plt.plot(history_xception_adam.history['acc'])\n",
    "plt.plot(history_xception_adam.history['val_acc'])\n",
    "plt.title('InceptionV3以及adam Model')\n",
    "plt.xlabel('Epoch')\n",
    "plt.ylabel('Accu')\n",
    "plt.legend(['Train','Test'],loc='upper left')\n",
    "plt.show()\n",
    "end = time.time()\n",
    "print('InceptionV3以及adam在imagenet下，消耗时间',str(end - start))"
   ]
  },
  {
   "cell_type": "code",
   "execution_count": 8,
   "metadata": {},
   "outputs": [
    {
     "name": "stdout",
     "output_type": "stream",
     "text": [
      "Train on 13125 samples, validate on 4375 samples\n",
      "Epoch 1/10\n",
      "13125/13125 [==============================] - 82s 6ms/step - loss: 15.3278 - acc: 0.9220 - val_loss: 3.1360 - val_acc: 0.9605\n",
      "Epoch 2/10\n",
      "13125/13125 [==============================] - 65s 5ms/step - loss: 1.1183 - acc: 0.9805 - val_loss: 0.3500 - val_acc: 0.9694\n",
      "Epoch 3/10\n",
      "13125/13125 [==============================] - 65s 5ms/step - loss: 0.2926 - acc: 0.9921 - val_loss: 0.2883 - val_acc: 0.9641\n",
      "Epoch 4/10\n",
      "13125/13125 [==============================] - 66s 5ms/step - loss: 0.2489 - acc: 0.9970 - val_loss: 0.2826 - val_acc: 0.9666\n",
      "Epoch 5/10\n",
      "13125/13125 [==============================] - 65s 5ms/step - loss: 0.2337 - acc: 0.9954 - val_loss: 0.2758 - val_acc: 0.9618\n",
      "Epoch 6/10\n",
      "13125/13125 [==============================] - 65s 5ms/step - loss: 0.2199 - acc: 0.9956 - val_loss: 0.2617 - val_acc: 0.9705\n",
      "Epoch 7/10\n",
      "13125/13125 [==============================] - 65s 5ms/step - loss: 0.2100 - acc: 0.9952 - val_loss: 0.2494 - val_acc: 0.9662\n",
      "Epoch 8/10\n",
      "13125/13125 [==============================] - 65s 5ms/step - loss: 0.1948 - acc: 0.9979 - val_loss: 0.2306 - val_acc: 0.9694\n",
      "Epoch 9/10\n",
      "13125/13125 [==============================] - 65s 5ms/step - loss: 0.1840 - acc: 0.9982 - val_loss: 0.2360 - val_acc: 0.9694\n",
      "Epoch 10/10\n",
      "13125/13125 [==============================] - 65s 5ms/step - loss: 0.1789 - acc: 0.9960 - val_loss: 0.2267 - val_acc: 0.9669\n"
     ]
    },
    {
     "data": {
      "image/png": "[encoded data removed]",
      "text/plain": [
       "<Figure size 432x288 with 1 Axes>"
      ]
     },
     "metadata": {},
     "output_type": "display_data"
    },
    {
     "name": "stdout",
     "output_type": "stream",
     "text": [
      "Xception以及adam在imagenet下，消耗时间 684.9041178226471\n"
     ]
    }
   ],
   "source": [
    "start = time.time()\n",
    "optimizer = adam(lr=learning_rate)\n",
    "def load_model():\n",
    "    base_model = Xception(weights=None, include_top=False,input_shape=(rows, cols, channels), pooling='avg')\n",
    "    base_model.load_weights('./xception_weights_tf_dim_ordering_tf_kernels_notop.h5')\n",
    "    prediction_layer = Dense(2, activation='softmax',kernel_regularizer=regularizers.l2(10))(base_model.output)\n",
    "    model = Model(inputs=base_model.input, outputs=prediction_layer)\n",
    "    model.compile(loss=objective, optimizer=optimizer, metrics=['accuracy'])\n",
    "    return model\n",
    "\n",
    "model = load_model()\n",
    "\n",
    "early_stopping = EarlyStopping(monitor='val_loss', patience=3, verbose=1, mode='auto')\n",
    "\n",
    "\n",
    "\n",
    "def run_train():\n",
    "    h = model.fit(\n",
    "        train_data,\n",
    "        train_labels,\n",
    "        batch_size=batch_size,\n",
    "        epochs=max_epochs,\n",
    "        validation_split=0.25,\n",
    "        verbose=1,\n",
    "        shuffle=True,\n",
    "        callbacks=[early_stopping])\n",
    "    return h\n",
    "\n",
    "\n",
    "history_xception_adam = run_train()\n",
    "plt.plot(history_xception_adam.history['acc'])\n",
    "plt.plot(history_xception_adam.history['val_acc'])\n",
    "plt.title('Xception以及adam Model')\n",
    "plt.xlabel('Epoch')\n",
    "plt.ylabel('Accu')\n",
    "plt.legend(['Train','Test'],loc='upper left')\n",
    "plt.show()\n",
    "end = time.time()\n",
    "print('Xception以及adam在imagenet下，消耗时间',str(end - start))"
   ]
  },
  {
   "cell_type": "code",
   "execution_count": 9,
   "metadata": {},
   "outputs": [
    {
     "name": "stdout",
     "output_type": "stream",
     "text": [
      "Train on 13125 samples, validate on 4375 samples\n",
      "Epoch 1/10\n",
      "13125/13125 [==============================] - 55s 4ms/step - loss: 32.0668 - acc: 0.5036 - val_loss: 20.4152 - val_acc: 0.4946\n",
      "Epoch 2/10\n",
      "13125/13125 [==============================] - 46s 3ms/step - loss: 14.7466 - acc: 0.5036 - val_loss: 11.1535 - val_acc: 0.4946\n",
      "Epoch 3/10\n",
      "13125/13125 [==============================] - 46s 4ms/step - loss: 9.4793 - acc: 0.5036 - val_loss: 8.6700 - val_acc: 0.4946\n",
      "Epoch 4/10\n",
      "13125/13125 [==============================] - 46s 3ms/step - loss: 6.9499 - acc: 0.5034 - val_loss: 0.7657 - val_acc: 0.4946\n",
      "Epoch 5/10\n",
      "13125/13125 [==============================] - 46s 3ms/step - loss: 0.7202 - acc: 0.5083 - val_loss: 0.6984 - val_acc: 0.4946\n",
      "Epoch 6/10\n",
      "13125/13125 [==============================] - 46s 3ms/step - loss: 0.6964 - acc: 0.5093 - val_loss: 0.6931 - val_acc: 0.4946\n",
      "Epoch 7/10\n",
      "13125/13125 [==============================] - 46s 3ms/step - loss: 0.6771 - acc: 0.5593 - val_loss: 0.6553 - val_acc: 0.6130\n",
      "Epoch 8/10\n",
      "13125/13125 [==============================] - 46s 3ms/step - loss: 0.5636 - acc: 0.7112 - val_loss: 0.7190 - val_acc: 0.7278\n",
      "Epoch 9/10\n",
      "13125/13125 [==============================] - 46s 4ms/step - loss: 0.2965 - acc: 0.8812 - val_loss: 0.3707 - val_acc: 0.8327\n",
      "Epoch 10/10\n",
      "13125/13125 [==============================] - 46s 4ms/step - loss: 0.1828 - acc: 0.9286 - val_loss: 0.2641 - val_acc: 0.9211\n"
     ]
    },
    {
     "data": {
      "image/png": "[encoded data removed]",
      "text/plain": [
       "<Figure size 432x288 with 1 Axes>"
      ]
     },
     "metadata": {},
     "output_type": "display_data"
    },
    {
     "name": "stdout",
     "output_type": "stream",
     "text": [
      "VGG19以及adam在imagenet下，消耗时间 475.7239134311676\n"
     ]
    }
   ],
   "source": [
    "start = time.time()\n",
    "optimizer = adam(lr=learning_rate)\n",
    "def load_model():\n",
    "    base_model = VGG19(weights=None, include_top=False,input_shape=(rows, cols, channels), pooling='avg')\n",
    "    base_model.load_weights('./vgg19_weights_tf_dim_ordering_tf_kernels_notop.h5')\n",
    "    prediction_layer = Dense(2, activation='softmax',kernel_regularizer=regularizers.l2(10))(base_model.output)\n",
    "    model = Model(inputs=base_model.input, outputs=prediction_layer)\n",
    "    model.compile(loss=objective, optimizer=optimizer, metrics=['accuracy'])\n",
    "    return model\n",
    "\n",
    "model = load_model()\n",
    "\n",
    "early_stopping = EarlyStopping(monitor='val_acc', patience=3, verbose=1, mode='auto')\n",
    "\n",
    "\n",
    "\n",
    "def run_train():\n",
    "    h = model.fit(\n",
    "        train_data,\n",
    "        train_labels,\n",
    "        batch_size=batch_size,\n",
    "        epochs=max_epochs,\n",
    "        validation_split=0.25,\n",
    "        verbose=1,\n",
    "        shuffle=True,\n",
    "        callbacks=[early_stopping])\n",
    "    return h\n",
    "\n",
    "\n",
    "history_xception_adam = run_train()\n",
    "plt.plot(history_xception_adam.history['acc'])\n",
    "plt.plot(history_xception_adam.history['val_acc'])\n",
    "plt.title('VGG19以及adam Model')\n",
    "plt.xlabel('Epoch')\n",
    "plt.ylabel('Accu')\n",
    "plt.legend(['Train','Test'],loc='upper left')\n",
    "plt.show()\n",
    "end = time.time()\n",
    "print('VGG19以及adam在imagenet下，消耗时间',str(end - start))"
   ]
  },
  {
   "cell_type": "code",
   "execution_count": 10,
   "metadata": {},
   "outputs": [
    {
     "name": "stdout",
     "output_type": "stream",
     "text": [
      "Train on 13125 samples, validate on 4375 samples\n",
      "Epoch 1/10\n",
      "13125/13125 [==============================] - 55s 4ms/step - loss: 22.6411 - acc: 0.5038 - val_loss: 11.7448 - val_acc: 0.5550\n",
      "Epoch 2/10\n",
      "13125/13125 [==============================] - 47s 4ms/step - loss: 6.7557 - acc: 0.5064 - val_loss: 3.4031 - val_acc: 0.4946\n",
      "Epoch 3/10\n",
      "13125/13125 [==============================] - 47s 4ms/step - loss: 2.0430 - acc: 0.5055 - val_loss: 1.1974 - val_acc: 0.4946\n",
      "Epoch 4/10\n",
      "13125/13125 [==============================] - 47s 4ms/step - loss: 0.9152 - acc: 0.5151 - val_loss: 0.7579 - val_acc: 0.4946\n",
      "Epoch 5/10\n",
      "13125/13125 [==============================] - 47s 4ms/step - loss: 0.7178 - acc: 0.5036 - val_loss: 0.6984 - val_acc: 0.4946\n",
      "Epoch 6/10\n",
      "13125/13125 [==============================] - 47s 4ms/step - loss: 0.6948 - acc: 0.5036 - val_loss: 0.6934 - val_acc: 0.4946\n",
      "Epoch 7/10\n",
      "13125/13125 [==============================] - 47s 4ms/step - loss: 0.6935 - acc: 0.5057 - val_loss: 0.6933 - val_acc: 0.4946\n",
      "Epoch 8/10\n",
      "13125/13125 [==============================] - 47s 4ms/step - loss: 0.6931 - acc: 0.5036 - val_loss: 0.6932 - val_acc: 0.4946\n",
      "Epoch 9/10\n",
      "13125/13125 [==============================] - 47s 4ms/step - loss: 0.6931 - acc: 0.5036 - val_loss: 0.6932 - val_acc: 0.4946\n",
      "Epoch 10/10\n",
      "13125/13125 [==============================] - 47s 4ms/step - loss: 0.6931 - acc: 0.5036 - val_loss: 0.6932 - val_acc: 0.4946\n"
     ]
    },
    {
     "data": {
      "image/png": "[encoded data removed]",
      "text/plain": [
       "<Figure size 432x288 with 1 Axes>"
      ]
     },
     "metadata": {},
     "output_type": "display_data"
    },
    {
     "name": "stdout",
     "output_type": "stream",
     "text": [
      "VGG19以及adam在无参情况下，消耗时间 476.5456154346466\n"
     ]
    }
   ],
   "source": [
    "start = time.time()\n",
    "optimizer = adam(lr=learning_rate)\n",
    "def load_model():\n",
    "    base_model = VGG19(weights=None, include_top=False,input_shape=(rows, cols, channels), pooling='avg')\n",
    "    #base_model.load_weights('./vgg19_weights_tf_dim_ordering_tf_kernels_notop.h5')\n",
    "    prediction_layer = Dense(2, activation='softmax',kernel_regularizer=regularizers.l2(10))(base_model.output)\n",
    "    model = Model(inputs=base_model.input, outputs=prediction_layer)\n",
    "    model.compile(loss=objective, optimizer=optimizer, metrics=['accuracy'])\n",
    "    return model\n",
    "\n",
    "model = load_model()\n",
    "\n",
    "early_stopping = EarlyStopping(monitor='val_loss', patience=3, verbose=1, mode='auto')\n",
    "\n",
    "\n",
    "\n",
    "def run_train():\n",
    "    h = model.fit(\n",
    "        train_data,\n",
    "        train_labels,\n",
    "        batch_size=batch_size,\n",
    "        epochs=max_epochs,\n",
    "        validation_split=0.25,\n",
    "        verbose=1,\n",
    "        shuffle=True,\n",
    "        callbacks=[early_stopping])\n",
    "    return h\n",
    "\n",
    "\n",
    "history_xception_adam = run_train()\n",
    "plt.plot(history_xception_adam.history['acc'])\n",
    "plt.plot(history_xception_adam.history['val_acc'])\n",
    "plt.title('VGG19以及adam Model')\n",
    "plt.xlabel('Epoch')\n",
    "plt.ylabel('Accu')\n",
    "plt.legend(['Train','Test'],loc='upper left')\n",
    "plt.show()\n",
    "end = time.time()\n",
    "print('VGG19以及adam在无参情况下，消耗时间',str(end - start))"
   ]
  },
  {
   "cell_type": "code",
   "execution_count": null,
   "metadata": {},
   "outputs": [
    {
     "name": "stdout",
     "output_type": "stream",
     "text": [
      "Train on 13125 samples, validate on 4375 samples\n",
      "Epoch 1/10\n",
      "13125/13125 [==============================] - 48s 4ms/step - loss: 29.9660 - acc: 0.5042 - val_loss: 19.1085 - val_acc: 0.4946\n",
      "Epoch 2/10\n",
      "13125/13125 [==============================] - 40s 3ms/step - loss: 13.9565 - acc: 0.5036 - val_loss: 10.7535 - val_acc: 0.4946\n",
      "Epoch 3/10\n",
      "13125/13125 [==============================] - 40s 3ms/step - loss: 7.2946 - acc: 0.5077 - val_loss: 1.1750 - val_acc: 0.4946\n",
      "Epoch 4/10\n",
      "13125/13125 [==============================] - 40s 3ms/step - loss: 0.8923 - acc: 0.5566 - val_loss: 0.7505 - val_acc: 0.5627\n",
      "Epoch 5/10\n",
      "13125/13125 [==============================] - 40s 3ms/step - loss: 0.6221 - acc: 0.6730 - val_loss: 0.4240 - val_acc: 0.8153\n",
      "Epoch 6/10\n",
      "13125/13125 [==============================] - 40s 3ms/step - loss: 0.3415 - acc: 0.8555 - val_loss: 0.2401 - val_acc: 0.9072\n",
      "Epoch 7/10\n",
      "13125/13125 [==============================] - 40s 3ms/step - loss: 0.1935 - acc: 0.9231 - val_loss: 0.1408 - val_acc: 0.9470\n",
      "Epoch 8/10\n",
      "13125/13125 [==============================] - 40s 3ms/step - loss: 0.1311 - acc: 0.9483 - val_loss: 0.1467 - val_acc: 0.9451\n",
      "Epoch 9/10\n",
      "13125/13125 [==============================] - 40s 3ms/step - loss: 0.0920 - acc: 0.9656 - val_loss: 0.1548 - val_acc: 0.9445\n",
      "Epoch 10/10\n",
      " 1440/13125 [==>...........................] - ETA: 31s - loss: 0.0580 - acc: 0.9799"
     ]
    }
   ],
   "source": [
    "start = time.time()\n",
    "optimizer = adam(lr=learning_rate)\n",
    "def load_model():\n",
    "    base_model = VGG16(weights=None, include_top=False,input_shape=(rows, cols, channels), pooling='avg')\n",
    "    base_model.load_weights('./vgg16_weights_tf_dim_ordering_tf_kernels_notop.h5')\n",
    "    prediction_layer = Dense(2, activation='softmax',kernel_regularizer=regularizers.l2(10))(base_model.output)\n",
    "    model = Model(inputs=base_model.input, outputs=prediction_layer)\n",
    "    model.compile(loss=objective, optimizer=optimizer, metrics=['accuracy'])\n",
    "    return model\n",
    "\n",
    "model = load_model()\n",
    "\n",
    "early_stopping = EarlyStopping(monitor='val_loss', patience=3, verbose=1, mode='auto')\n",
    "\n",
    "\n",
    "\n",
    "def run_train():\n",
    "    h = model.fit(\n",
    "        train_data,\n",
    "        train_labels,\n",
    "        batch_size=batch_size,\n",
    "        epochs=max_epochs,\n",
    "        validation_split=0.25,\n",
    "        verbose=1,\n",
    "        shuffle=True,\n",
    "        callbacks=[early_stopping])\n",
    "    return h\n",
    "\n",
    "\n",
    "history_xception_adam = run_train()\n",
    "plt.plot(history_xception_adam.history['acc'])\n",
    "plt.plot(history_xception_adam.history['val_acc'])\n",
    "plt.title('VGG19以及adam Model')\n",
    "plt.xlabel('Epoch')\n",
    "plt.ylabel('Accu')\n",
    "plt.legend(['Train','Test'],loc='upper left')\n",
    "plt.show()\n",
    "end = time.time()\n",
    "print('VGG16以及adam在参数为imagenet情况下，消耗时间',str(end - start))"
   ]
  },
  {
   "cell_type": "code",
   "execution_count": null,
   "metadata": {},
   "outputs": [],
   "source": []
  }
 ],
 "metadata": {
  "kernelspec": {
   "display_name": "TensorFlow-1.13.1",
   "language": "python",
   "name": "tensorflow-1.13.1"
  },
  "language_info": {
   "codemirror_mode": {
    "name": "ipython",
    "version": 3
   },
   "file_extension": ".py",
   "mimetype": "text/x-python",
   "name": "python",
   "nbconvert_exporter": "python",
   "pygments_lexer": "ipython3",
   "version": "3.6.4"
  }
 },
 "nbformat": 4,
 "nbformat_minor": 2
}
